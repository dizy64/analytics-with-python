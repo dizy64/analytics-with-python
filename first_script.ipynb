{
 "cells": [
  {
   "cell_type": "code",
   "execution_count": 4,
   "metadata": {},
   "outputs": [
    {
     "name": "stdout",
     "output_type": "stream",
     "text": [
      "output #3: format(a,b,c)\n"
     ]
    }
   ],
   "source": [
    "a = [1,2,3,4]\n",
    "b = [\"first\", \"second\", \"third\", \"fourth\"]\n",
    "c = a + b\n",
    "print(\"output #3: {0},{1},{2}\".format(a,b,c))"
   ]
  },
  {
   "cell_type": "code",
   "execution_count": 10,
   "metadata": {},
   "outputs": [
    {
     "name": "stdout",
     "output_type": "stream",
     "text": [
      "output #4: 9\n",
      "output #5: 81\n",
      "output #6: 4.0\n",
      "output #5: 81\n"
     ]
    }
   ],
   "source": [
    "#1.4 파이썬 기본 구성요소 중 정수\n",
    "x = 9\n",
    "print(\"output #4: {0}\".format(x))\n",
    "print(\"output #5: {0}\".format(3**4))\n",
    "print(\"output #6: {0}\".format(int(8.3)/int(2.7)))\n",
    "print(\"output #5:\", 3**4)"
   ]
  },
  {
   "cell_type": "code",
   "execution_count": 6,
   "metadata": {},
   "outputs": [
    {
     "name": "stdout",
     "output_type": "stream",
     "text": [
      "output #7: 3.074\n",
      "output #8: 12.0\n",
      "output #9: 2.67\n",
      "output #10: 2.6667\n"
     ]
    }
   ],
   "source": [
    "#1.4 파이썬 기본 구성요소 중 실수\n",
    "print(\"output #7: {0:.3f}\".format(8.3/2.7))\n",
    "y=2.5*4.8\n",
    "print(\"output #8: {0:.1f}\".format(y))\n",
    "r = 8/float(3)\n",
    "print(\"output #9: {0:.2f}\".format(r))\n",
    "print(\"output #10: {0:.4f}\".format(8.0/3))"
   ]
  },
  {
   "cell_type": "code",
   "execution_count": 23,
   "metadata": {},
   "outputs": [
    {
     "name": "stdout",
     "output_type": "stream",
     "text": [
      "output #11: 20.0855\n",
      "output #11: 20.085536923187668\n"
     ]
    }
   ],
   "source": [
    "from math import exp, log, sqrt\n",
    "\n",
    "#1.4 파이썬 기본 구성요소 중 실수\n",
    "print(\"output #11: {0:.4f}\".format(exp(3)))\n",
    "print(\"output #11: {}\".format(exp(3)))\n",
    "#셔뱅 아래에 라인 추가해보라는 게 무슨 말이지??"
   ]
  },
  {
   "cell_type": "code",
   "execution_count": 16,
   "metadata": {},
   "outputs": [
    {
     "name": "stdout",
     "output_type": "stream",
     "text": [
      "output #14: I'm enjoying learning Python.\n",
      "output #15: This is a long string. Without the backslashit would run off of the page on the right in the text deitor and be verydifficult to read and edit. By using the backslash you can split the longstring into smaller strings on separate lines so that the whole string is easyto view in the text editor.\n",
      "output #16: You can use triple single quotes \n",
      "for multi-line comment strings.\n",
      "output #17: You can also use triple single quotes \n",
      "for multi-line comment strings.\n"
     ]
    }
   ],
   "source": [
    "#1.4.2 문자열\n",
    "print(\"output #14: {0:s}\".format('I\\'m enjoying learning Python.'))\n",
    "print(\"output #15: {0:s}\".format(\"This is a long string. Without the backslash\\\n",
    "it would run off of the page on the right in the text deitor and be very\\\n",
    "difficult to read and edit. By using the backslash you can split the long\\\n",
    "string into smaller strings on separate lines so that the whole string is easy\\\n",
    "to view in the text editor.\"))\n",
    "print(\"output #16: {0:s}\".format('''You can use triple single quotes \n",
    "for multi-line comment strings.'''))\n",
    "print(\"output #17: {0:s}\".format(\"\"\"You can also use triple single quotes \n",
    "for multi-line comment strings.\"\"\"))\n",
    "\n",
    "#15가 이상하다...\n"
   ]
  },
  {
   "cell_type": "code",
   "execution_count": 21,
   "metadata": {},
   "outputs": [
    {
     "name": "stdout",
     "output_type": "stream",
     "text": [
      "output #18: This is a short string.\n",
      "output #19: She is very very very very beautiful.\n",
      "output #20: 23\n"
     ]
    }
   ],
   "source": [
    "#1.4.2 문자열\n",
    "string1 = \"This is a \"\n",
    "string2 = \"short string.\"\n",
    "sentence = string1 + string2\n",
    "print(\"output #18: {0:s}\".format(sentence))\n",
    "print(\"output #19: {0:s}{1:s}{2:s}\".format(\"She is \", \"very \"*4,  \"beautiful.\"))\n",
    "m = len(sentence)\n",
    "print(\"output #20: {0:d}\".format(m))"
   ]
  },
  {
   "cell_type": "code",
   "execution_count": 25,
   "metadata": {},
   "outputs": [
    {
     "ename": "ValueError",
     "evalue": "empty separator",
     "output_type": "error",
     "traceback": [
      "\u001b[0;31m---------------------------------------------------------------------------\u001b[0m",
      "\u001b[0;31mValueError\u001b[0m                                Traceback (most recent call last)",
      "\u001b[0;32m<ipython-input-25-0616dca38af6>\u001b[0m in \u001b[0;36m<module>\u001b[0;34m()\u001b[0m\n\u001b[1;32m      2\u001b[0m \u001b[0mstring1\u001b[0m \u001b[0;34m=\u001b[0m \u001b[0;34m\"My deliverable is due in May\"\u001b[0m\u001b[0;34m\u001b[0m\u001b[0m\n\u001b[1;32m      3\u001b[0m \u001b[0mstring1_list1\u001b[0m \u001b[0;34m=\u001b[0m \u001b[0mstring1\u001b[0m\u001b[0;34m.\u001b[0m\u001b[0msplit\u001b[0m\u001b[0;34m(\u001b[0m\u001b[0;34m)\u001b[0m\u001b[0;34m\u001b[0m\u001b[0m\n\u001b[0;32m----> 4\u001b[0;31m \u001b[0mstring1_list2\u001b[0m \u001b[0;34m=\u001b[0m \u001b[0mstring1\u001b[0m\u001b[0;34m.\u001b[0m\u001b[0msplit\u001b[0m\u001b[0;34m(\u001b[0m\u001b[0;34m\"\"\u001b[0m\u001b[0;34m,\u001b[0m\u001b[0;36m2\u001b[0m\u001b[0;34m)\u001b[0m\u001b[0;34m\u001b[0m\u001b[0m\n\u001b[0m\u001b[1;32m      5\u001b[0m \u001b[0mprint\u001b[0m\u001b[0;34m(\u001b[0m\u001b[0;34m\"output #21: {0}\"\u001b[0m\u001b[0;34m.\u001b[0m\u001b[0mformat\u001b[0m\u001b[0;34m(\u001b[0m\u001b[0mstring1_list1\u001b[0m\u001b[0;34m)\u001b[0m\u001b[0;34m)\u001b[0m\u001b[0;34m\u001b[0m\u001b[0m\n\u001b[1;32m      6\u001b[0m \u001b[0mprint\u001b[0m\u001b[0;34m(\u001b[0m\u001b[0;34m\"output #22: FIRST PIECE:{0} SECOND PIECE:{1} THIRD PIECE:{2}\"\u001b[0m      \u001b[0;34m.\u001b[0m\u001b[0mformat\u001b[0m\u001b[0;34m(\u001b[0m\u001b[0mstring1_list2\u001b[0m\u001b[0;34m[\u001b[0m\u001b[0;36m0\u001b[0m\u001b[0;34m]\u001b[0m\u001b[0;34m,\u001b[0m \u001b[0mstring1_list2\u001b[0m\u001b[0;34m[\u001b[0m\u001b[0;36m1\u001b[0m\u001b[0;34m]\u001b[0m\u001b[0;34m,\u001b[0m \u001b[0mstring1_list2\u001b[0m\u001b[0;34m[\u001b[0m\u001b[0;36m2\u001b[0m\u001b[0;34m]\u001b[0m\u001b[0;34m)\u001b[0m\u001b[0;34m)\u001b[0m\u001b[0;34m\u001b[0m\u001b[0m\n",
      "\u001b[0;31mValueError\u001b[0m: empty separator"
     ]
    }
   ],
   "source": [
    "#1.4.2 문자열 - split\n",
    "string1 = \"My deliverable is due in May\"\n",
    "string1_list1 = string1.split()\n",
    "string1_list2 = string1.split(\"\",2)\n",
    "print(\"output #21: {0}\".format(string1_list1))\n",
    "print(\"output #22: FIRST PIECE:{0} SECOND PIECE:{1} THIRD PIECE:{2}\"\\\n",
    "      .format(string1_list2[0], string1_list2[1], string1_list2[2]))"
   ]
  },
  {
   "cell_type": "code",
   "execution_count": null,
   "metadata": {
    "collapsed": true
   },
   "outputs": [],
   "source": []
  }
 ],
 "metadata": {
  "kernelspec": {
   "display_name": "Python 3",
   "language": "python",
   "name": "python3"
  },
  "language_info": {
   "codemirror_mode": {
    "name": "ipython",
    "version": 3
   },
   "file_extension": ".py",
   "mimetype": "text/x-python",
   "name": "python",
   "nbconvert_exporter": "python",
   "pygments_lexer": "ipython3",
   "version": "3.6.3"
  }
 },
 "nbformat": 4,
 "nbformat_minor": 2
}
