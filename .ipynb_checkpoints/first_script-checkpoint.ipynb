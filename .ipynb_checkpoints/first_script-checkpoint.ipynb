{
 "cells": [
  {
   "cell_type": "code",
   "execution_count": 1,
   "metadata": {},
   "outputs": [
    {
     "name": "stdout",
     "output_type": "stream",
     "text": [
      "output #3: [1, 2, 3, 4],['first', 'second', 'third', 'fourth'],[1, 2, 3, 4, 'first', 'second', 'third', 'fourth']\n"
     ]
    }
   ],
   "source": [
    "a = [1,2,3,4]\n",
    "b = [\"first\", \"second\", \"third\", \"fourth\"]\n",
    "c = a + b\n",
    "print(\"output #3: {0},{1},{2}\".format(a,b,c))"
   ]
  },
  {
   "cell_type": "code",
   "execution_count": 21,
   "metadata": {
    "collapsed": true
   },
   "outputs": [],
   "source": [
    "#!/usr/bin/env python3\n",
    "from math import exp, log, sqrt\n",
    "import re\n",
    "from datetime import date, time, datetime, timedelta\n",
    "from operator import itemgetter\n"
   ]
  },
  {
   "cell_type": "code",
   "execution_count": 3,
   "metadata": {},
   "outputs": [
    {
     "name": "stdout",
     "output_type": "stream",
     "text": [
      "output #4: 9\n",
      "output #5: 81\n",
      "output #6: 4.0\n",
      "output #5: 81\n"
     ]
    }
   ],
   "source": [
    "#1.4 파이썬 기본 구성요소 중 정수\n",
    "x = 9\n",
    "print(\"output #4: {0}\".format(x))\n",
    "print(\"output #5: {0}\".format(3**4))\n",
    "print(\"output #6: {0}\".format(int(8.3)/int(2.7)))\n",
    "print(\"output #5:\", 3**4)"
   ]
  },
  {
   "cell_type": "code",
   "execution_count": 4,
   "metadata": {},
   "outputs": [
    {
     "name": "stdout",
     "output_type": "stream",
     "text": [
      "output #7: 3.074\n",
      "output #8: 12.0\n",
      "output #9: 2.67\n",
      "output #10: 2.6667\n"
     ]
    }
   ],
   "source": [
    "#1.4 파이썬 기본 구성요소 중 실수\n",
    "print(\"output #7: {0:.3f}\".format(8.3/2.7))\n",
    "y=2.5*4.8\n",
    "print(\"output #8: {0:.1f}\".format(y))\n",
    "r = 8/float(3)\n",
    "print(\"output #9: {0:.2f}\".format(r))\n",
    "print(\"output #10: {0:.4f}\".format(8.0/3))"
   ]
  },
  {
   "cell_type": "code",
   "execution_count": 5,
   "metadata": {},
   "outputs": [
    {
     "name": "stdout",
     "output_type": "stream",
     "text": [
      "output #11: 20.0855\n",
      "output #11: 20.085536923187668\n"
     ]
    }
   ],
   "source": [
    "from math import exp, log, sqrt\n",
    "\n",
    "#1.4 파이썬 기본 구성요소 중 실수\n",
    "print(\"output #11: {0:.4f}\".format(exp(3)))\n",
    "print(\"output #11: {}\".format(exp(3)))\n",
    "#셔뱅 아래에 라인 추가해보라는 게 무슨 말이지??"
   ]
  },
  {
   "cell_type": "code",
   "execution_count": 6,
   "metadata": {},
   "outputs": [
    {
     "name": "stdout",
     "output_type": "stream",
     "text": [
      "output #14: I'm enjoying learning Python.\n",
      "output #15: This is a long string. Without the backslashit would run off of the page on the right in the text deitor and be verydifficult to read and edit. By using the backslash you can split the longstring into smaller strings on separate lines so that the whole string is easyto view in the text editor.\n",
      "output #16: You can use triple single quotes \n",
      "for multi-line comment strings.\n",
      "output #17: You can also use triple single quotes \n",
      "for multi-line comment strings.\n"
     ]
    }
   ],
   "source": [
    "#1.4.2 문자열\n",
    "print(\"output #14: {0:s}\".format('I\\'m enjoying learning Python.'))\n",
    "print(\"output #15: {0:s}\".format(\"This is a long string. Without the backslash\\\n",
    "it would run off of the page on the right in the text deitor and be very\\\n",
    "difficult to read and edit. By using the backslash you can split the long\\\n",
    "string into smaller strings on separate lines so that the whole string is easy\\\n",
    "to view in the text editor.\"))\n",
    "print(\"output #16: {0:s}\".format('''You can use triple single quotes \n",
    "for multi-line comment strings.'''))\n",
    "print(\"output #17: {0:s}\".format(\"\"\"You can also use triple single quotes \n",
    "for multi-line comment strings.\"\"\"))\n",
    "\n",
    "#15가 이상하다...\n"
   ]
  },
  {
   "cell_type": "code",
   "execution_count": 7,
   "metadata": {},
   "outputs": [
    {
     "name": "stdout",
     "output_type": "stream",
     "text": [
      "output #18: This is a short string.\n",
      "output #19: She is very very very very beautiful.\n",
      "output #20: 23\n"
     ]
    }
   ],
   "source": [
    "#1.4.2 문자열\n",
    "string1 = \"This is a \"\n",
    "string2 = \"short string.\"\n",
    "sentence = string1 + string2\n",
    "print(\"output #18: {0:s}\".format(sentence))\n",
    "print(\"output #19: {0:s}{1:s}{2:s}\".format(\"She is \", \"very \"*4,  \"beautiful.\"))\n",
    "m = len(sentence)\n",
    "print(\"output #20: {0:d}\".format(m))"
   ]
  },
  {
   "cell_type": "code",
   "execution_count": 8,
   "metadata": {},
   "outputs": [
    {
     "name": "stdout",
     "output_type": "stream",
     "text": [
      "output #21: ['My', 'deliverable', 'is', 'due', 'in', 'May']\n",
      "output #22: FIRST PIECE:My SECOND PIECE:deliverable THIRD PIECE:is due in May\n"
     ]
    }
   ],
   "source": [
    "#1.4.2 문자열 - split\n",
    "string1 = \"My deliverable is due in May\"\n",
    "string1_list1 = string1.split()\n",
    "string1_list2 = string1.split(\" \",2)\n",
    "print(\"output #21: {0}\".format(string1_list1))\n",
    "print(\"output #22: FIRST PIECE:{0} SECOND PIECE:{1} THIRD PIECE:{2}\"\\\n",
    ".format(string1_list2[0], string1_list2[1], string1_list2[2]))"
   ]
  },
  {
   "cell_type": "code",
   "execution_count": 9,
   "metadata": {},
   "outputs": [
    {
     "name": "stdout",
     "output_type": "stream",
     "text": [
      "Output #23: ['Your', 'deliverable', 'is', 'due', 'in', 'June']\n",
      "Output #24: deliverableJuneJune\n"
     ]
    }
   ],
   "source": [
    "string2 = \"Your,deliverable,is,due,in,June\"\n",
    "string2_list = string2.split(',')\n",
    "print(\"Output #23: {0}\".format(string2_list))\n",
    "print(\"Output #24: {0}{1}{2}\".format(string2_list[1], string2_list[5],\\\n",
    "string2_list[-1]))"
   ]
  },
  {
   "cell_type": "code",
   "execution_count": 10,
   "metadata": {},
   "outputs": [
    {
     "name": "stdout",
     "output_type": "stream",
     "text": [
      "Output #25: Your,deliverable,is,due,in,June\n"
     ]
    }
   ],
   "source": [
    "#join\n",
    "string2 = \"Your,deliverable,is,due,in,June\"\n",
    "string2_list = string2.split(',')\n",
    "print(\"Output #25: {0}\".format(','.join(string2_list)))\n"
   ]
  },
  {
   "cell_type": "code",
   "execution_count": 11,
   "metadata": {},
   "outputs": [
    {
     "name": "stdout",
     "output_type": "stream",
     "text": [
      "Output #26: string3:  Remove unwanted characters  from this string.\t\t \n",
      "\n",
      "Output #27: lstring: Remove unwanted characters  from this string.\t\t \n",
      "\n",
      "Output #28: rstring:  Remove unwanted characters  from this string.\n",
      "Output #29: strip: Remove unwanted characters  from this string.\n"
     ]
    }
   ],
   "source": [
    "#strip\n",
    "string3 = \" Remove unwanted characters  from this string.\\t\\t \\n\"\n",
    "print(\"Output #26: string3: {0:s}\".format(string3))\n",
    "string3_lstrip = string3.lstrip()\n",
    "print(\"Output #27: lstring: {0:s}\".format(string3_lstrip))\n",
    "string3_rstrip = string3.rstrip()\n",
    "print(\"Output #28: rstring: {0:s}\".format(string3_rstrip))\n",
    "string3_strip = string3.strip()\n",
    "print(\"Output #29: strip: {0:s}\".format(string3_strip))"
   ]
  },
  {
   "cell_type": "code",
   "execution_count": 12,
   "metadata": {},
   "outputs": [
    {
     "name": "stdout",
     "output_type": "stream",
     "text": [
      "Output #30: $$Here's another tring that has unwanted characters.__---++\n",
      "Output #31: The unwanted characters have been removed.\n"
     ]
    }
   ],
   "source": [
    "string4 = \"$$Here's another tring that has unwanted characters.__---++\"\n",
    "print(\"Output #30: {0:s}\".format(string4))\n",
    "string4 = \"$$The unwanted characters have been removed.__---++\"\n",
    "string4_strip = string4.strip('$_-+')\n",
    "print(\"Output #31: {0:s}\".format(string4_strip))"
   ]
  },
  {
   "cell_type": "code",
   "execution_count": 13,
   "metadata": {},
   "outputs": [
    {
     "name": "stdout",
     "output_type": "stream",
     "text": [
      "Output #32 (with !@!): Let's!@!replace!@!the!@!spaces!@!in!@!this!@!sentence!@!with!@!oher!@!characters\n",
      "Output #33 (with commas): Let's,replace,the,spaces,in,this,sentence,with,oher,characters\n"
     ]
    }
   ],
   "source": [
    "string5 = \"Let's replace the spaces in this sentence with oher characters\"\n",
    "string5_replace = string5.replace(\" \", \"!@!\")\n",
    "print(\"Output #32 (with !@!): {0:s}\".format(string5_replace))\n",
    "string5_replace = string5.replace(\" \",\",\")\n",
    "print(\"Output #33 (with commas): {0:s}\".format(string5_replace))"
   ]
  },
  {
   "cell_type": "code",
   "execution_count": 14,
   "metadata": {},
   "outputs": [
    {
     "ename": "NameError",
     "evalue": "name 'string6_lower' is not defined",
     "output_type": "error",
     "traceback": [
      "\u001b[0;31m---------------------------------------------------------------------------\u001b[0m",
      "\u001b[0;31mNameError\u001b[0m                                 Traceback (most recent call last)",
      "\u001b[0;32m<ipython-input-14-d74df9fc50d1>\u001b[0m in \u001b[0;36m<module>\u001b[0;34m()\u001b[0m\n\u001b[1;32m      2\u001b[0m \u001b[0;34m\u001b[0m\u001b[0m\n\u001b[1;32m      3\u001b[0m \u001b[0mstring6\u001b[0m \u001b[0;34m=\u001b[0m \u001b[0;34m\"Here's WHAT Happens WHEN You Use lower.\"\u001b[0m\u001b[0;34m\u001b[0m\u001b[0m\n\u001b[0;32m----> 4\u001b[0;31m \u001b[0mprint\u001b[0m\u001b[0;34m(\u001b[0m\u001b[0;34m\"Output #34 : {0:s}\"\u001b[0m\u001b[0;34m.\u001b[0m\u001b[0mformat\u001b[0m\u001b[0;34m(\u001b[0m\u001b[0mstring6_lower\u001b[0m\u001b[0;34m(\u001b[0m\u001b[0;34m)\u001b[0m\u001b[0;34m)\u001b[0m\u001b[0;34m)\u001b[0m\u001b[0;34m\u001b[0m\u001b[0m\n\u001b[0m\u001b[1;32m      5\u001b[0m \u001b[0;34m\u001b[0m\u001b[0m\n\u001b[1;32m      6\u001b[0m \u001b[0;31m#lower 뒤에 붙이는 ()는 무슨 의미지??\u001b[0m\u001b[0;34m\u001b[0m\u001b[0;34m\u001b[0m\u001b[0m\n",
      "\u001b[0;31mNameError\u001b[0m: name 'string6_lower' is not defined"
     ]
    }
   ],
   "source": [
    "#lower, upper, capitalize\n",
    "\n",
    "string6 = \"Here's WHAT Happens WHEN You Use lower.\"\n",
    "print(\"Output #34 : {0:s}\".format(string6_lower()))\n",
    "\n",
    "#lower 뒤에 붙이는 ()는 무슨 의미지??\n",
    "\n",
    "string7 = \"Here's what Happens when You Use UPPER.\"\n",
    "print(\"Output #35: {0:s}\".format(string7.upper()))\n",
    "\n",
    "string5 = \"here's WHAT Happens WHEN you use Capitalize.\"\n",
    "print(\"Output #36: {0:s}\".format(string5.capitalize()))\n",
    "string5_list = string5.split()\n",
    "print(\"Output #37 (in each word):\")\n",
    "for word in string5_list:\n",
    "    print(\"{0:s}\".format(word.capitalize()))"
   ]
  },
  {
   "cell_type": "code",
   "execution_count": 15,
   "metadata": {},
   "outputs": [
    {
     "ename": "NameError",
     "evalue": "name 'word' is not defined",
     "output_type": "error",
     "traceback": [
      "\u001b[0;31m---------------------------------------------------------------------------\u001b[0m",
      "\u001b[0;31mNameError\u001b[0m                                 Traceback (most recent call last)",
      "\u001b[0;32m<ipython-input-15-1b5fd264cf55>\u001b[0m in \u001b[0;36m<module>\u001b[0;34m()\u001b[0m\n\u001b[1;32m      5\u001b[0m \u001b[0mcount\u001b[0m \u001b[0;34m=\u001b[0m \u001b[0;36m0\u001b[0m\u001b[0;34m\u001b[0m\u001b[0m\n\u001b[1;32m      6\u001b[0m \u001b[0;32mfor\u001b[0m \u001b[0mworld\u001b[0m \u001b[0;32min\u001b[0m \u001b[0mstring_list\u001b[0m\u001b[0;34m:\u001b[0m\u001b[0;34m\u001b[0m\u001b[0m\n\u001b[0;32m----> 7\u001b[0;31m     \u001b[0;32mif\u001b[0m \u001b[0mpattern\u001b[0m\u001b[0;34m.\u001b[0m\u001b[0msearch\u001b[0m\u001b[0;34m(\u001b[0m\u001b[0mword\u001b[0m\u001b[0;34m)\u001b[0m\u001b[0;34m:\u001b[0m\u001b[0;34m\u001b[0m\u001b[0m\n\u001b[0m\u001b[1;32m      8\u001b[0m         \u001b[0mcount\u001b[0m \u001b[0;34m+=\u001b[0m\u001b[0;36m1\u001b[0m\u001b[0;34m\u001b[0m\u001b[0m\n\u001b[1;32m      9\u001b[0m \u001b[0mprint\u001b[0m\u001b[0;34m(\u001b[0m\u001b[0;34m\"Output #38 {0:d}\"\u001b[0m\u001b[0;34m.\u001b[0m\u001b[0mformat\u001b[0m\u001b[0;34m(\u001b[0m\u001b[0mcount\u001b[0m\u001b[0;34m)\u001b[0m\u001b[0;34m)\u001b[0m\u001b[0;34m\u001b[0m\u001b[0m\n",
      "\u001b[0;31mNameError\u001b[0m: name 'word' is not defined"
     ]
    }
   ],
   "source": [
    "#문자열 내에 등장하는 패턴의 횟수를 세기\n",
    "string = \"The quick brown fox jumps over the lazy dog.\"\n",
    "string_list = string.split()\n",
    "pattern = re.compile(r\"The\",re.I)\n",
    "count = 0\n",
    "for world in string_list:\n",
    "    if pattern.search(word):\n",
    "        count +=1\n",
    "print(\"Output #38 {0:d}\".format(count))"
   ]
  },
  {
   "cell_type": "code",
   "execution_count": 16,
   "metadata": {},
   "outputs": [
    {
     "ename": "SyntaxError",
     "evalue": "unexpected EOF while parsing (<ipython-input-16-553a08d59679>, line 8)",
     "output_type": "error",
     "traceback": [
      "\u001b[0;36m  File \u001b[0;32m\"<ipython-input-16-553a08d59679>\"\u001b[0;36m, line \u001b[0;32m8\u001b[0m\n\u001b[0;31m    print(\"{:s}\".format(pattern.search(word).group('match_word'))\u001b[0m\n\u001b[0m                                                                 ^\u001b[0m\n\u001b[0;31mSyntaxError\u001b[0m\u001b[0;31m:\u001b[0m unexpected EOF while parsing\n"
     ]
    }
   ],
   "source": [
    "#문자열 내에 등장하는 패턴의 횟수를 세기\n",
    "string = \"The quick brown fox jumps over the lazy dog.\"\n",
    "string_list = string.split()\n",
    "pattern = re.compile(r\"(?P<match_word>ThE)\", re.I)\n",
    "print(\"Output #39:\")\n",
    "for word in string_list:\n",
    "    if pattern.search(word):\n",
    "        print(\"{:s}\".format(pattern.search(word).group('match_word'))"
   ]
  },
  {
   "cell_type": "code",
   "execution_count": 17,
   "metadata": {},
   "outputs": [
    {
     "name": "stdout",
     "output_type": "stream",
     "text": [
      "Output #40: a quick brown fox jumps over a lazy dog.\n"
     ]
    }
   ],
   "source": [
    "#문자열 내 \"a\"를 \"the\"로 대체하기\n",
    "string = \"The quick brown fox jumps over the lazy dog.\"\n",
    "string_to_find = r\"THE\"\n",
    "pattern = re.compile(string_to_find, re.I)\n",
    "print(\"Output #40: {:s}\".format(pattern.sub(\"a\", string)))"
   ]
  },
  {
   "cell_type": "code",
   "execution_count": 8,
   "metadata": {},
   "outputs": [
    {
     "name": "stdout",
     "output_type": "stream",
     "text": [
      "Output #41: today: 2017-12-24\n",
      "Output #42: 2017\n",
      "output #43: 12\n",
      "Output #44: 24\n",
      "Output #45: 2017-12-24 15:42:48.011490\n"
     ]
    }
   ],
   "source": [
    "#1.4.4 날짜\n",
    "today = date.today()\n",
    "print(\"Output #41: today: {0!s}\".format(today))\n",
    "print(\"Output #42: {0!s}\".format(today.year))\n",
    "print(\"output #43: {0!s}\".format(today.month))\n",
    "print(\"Output #44: {0!s}\".format(today.day))\n",
    "current_datetime = datetime.today()\n",
    "print(\"Output #45: {0!s}\".format(current_datetime))"
   ]
  },
  {
   "cell_type": "code",
   "execution_count": 16,
   "metadata": {},
   "outputs": [
    {
     "name": "stdout",
     "output_type": "stream",
     "text": [
      "Output #46: yesterday: 2017-12-23\n",
      "Output #47: -157600\n"
     ]
    }
   ],
   "source": [
    "#timedelta 함수를 이용하여 새로운 날짜 계산하기\n",
    "one_day = timedelta(days=-1)\n",
    "yesterday = today + one_day\n",
    "print(\"Output #46: yesterday: {0!s}\".format(yesterday))\n",
    "eight_hours = timedelta(hours=-8)\n",
    "print(\"Output #47: {0!s}{1!s}\".format(eight_hours.days, eight_hours.seconds))"
   ]
  },
  {
   "cell_type": "code",
   "execution_count": 15,
   "metadata": {},
   "outputs": [
    {
     "name": "stdout",
     "output_type": "stream",
     "text": [
      "Output #48: 1 day, 0:00:00\n",
      "Output #49: 1\n"
     ]
    }
   ],
   "source": [
    "#두 날짜 사이의 날짜 차이를 계산하기\n",
    "date_diff = today - yesterday\n",
    "print(\"Output #48: {0!s}\".format(date_diff))\n",
    "print(\"Output #49: {0!s}\".format(str(date_diff).split()[0]))"
   ]
  },
  {
   "cell_type": "code",
   "execution_count": 34,
   "metadata": {},
   "outputs": [
    {
     "name": "stdout",
     "output_type": "stream",
     "text": [
      "output #50: 12 25 17\n",
      "output #51: Dec 25, 17\n",
      "Output #52: 2017-12-25\n",
      "Output #53: December 25, 2017\n",
      "output #50: 12/25/17\n"
     ]
    }
   ],
   "source": [
    "#date 객체를 특정 형식의 문자열로 만들기\n",
    "print(\"output #50: {:s}\".format(today.strftime('%m %d %y')))\n",
    "print(\"output #51: {:s}\".format(today.strftime('%b %d, %y')))\n",
    "print(\"Output #52: {:s}\".format(today.strftime('%Y-%m-%d')))\n",
    "print(\"Output #53: {:s}\".format(today.strftime('%B %d, %Y')))\n",
    "print(\"output #50: {:s}\".format(today.strftime('%D')))\n",
    "\n",
    "#오 Y를 대문자로 쓰면 2017, 소문자로 쓰면 17이 나온다. D만 대문자로 써줘도 나온다."
   ]
  },
  {
   "cell_type": "code",
   "execution_count": 40,
   "metadata": {},
   "outputs": [
    {
     "ename": "ValueError",
     "evalue": "unconverted data remains: 17",
     "output_type": "error",
     "traceback": [
      "\u001b[0;31m---------------------------------------------------------------------------\u001b[0m",
      "\u001b[0;31mValueError\u001b[0m                                Traceback (most recent call last)",
      "\u001b[0;32m<ipython-input-40-eecc17677f27>\u001b[0m in \u001b[0;36m<module>\u001b[0;34m()\u001b[0m\n\u001b[1;32m      7\u001b[0m \u001b[0;31m#다른 DATE 형식을 지닌 4가지 문자열에 기반한\u001b[0m\u001b[0;34m\u001b[0m\u001b[0;34m\u001b[0m\u001b[0m\n\u001b[1;32m      8\u001b[0m \u001b[0;31m#각각 2종류의 datetime 객체들과 date 객체들\u001b[0m\u001b[0;34m\u001b[0m\u001b[0;34m\u001b[0m\u001b[0m\n\u001b[0;32m----> 9\u001b[0;31m \u001b[0mprint\u001b[0m\u001b[0;34m(\u001b[0m\u001b[0;34m\"Output #54: {!s}\"\u001b[0m\u001b[0;34m.\u001b[0m\u001b[0mformat\u001b[0m\u001b[0;34m(\u001b[0m\u001b[0mdatetime\u001b[0m\u001b[0;34m.\u001b[0m\u001b[0mstrptime\u001b[0m\u001b[0;34m(\u001b[0m\u001b[0mdate1\u001b[0m\u001b[0;34m,\u001b[0m \u001b[0;34m'%m/%d/%y'\u001b[0m\u001b[0;34m)\u001b[0m\u001b[0;34m)\u001b[0m\u001b[0;34m)\u001b[0m\u001b[0;34m\u001b[0m\u001b[0m\n\u001b[0m\u001b[1;32m     10\u001b[0m \u001b[0mprint\u001b[0m\u001b[0;34m(\u001b[0m\u001b[0;34m\"Output #55: {!s}\"\u001b[0m\u001b[0;34m.\u001b[0m\u001b[0mformat\u001b[0m\u001b[0;34m(\u001b[0m\u001b[0mdatetime\u001b[0m\u001b[0;34m.\u001b[0m\u001b[0mstrptime\u001b[0m\u001b[0;34m(\u001b[0m\u001b[0mdate2\u001b[0m\u001b[0;34m,\u001b[0m \u001b[0;34m'%b %d, %Y'\u001b[0m\u001b[0;34m)\u001b[0m\u001b[0;34m)\u001b[0m\u001b[0;34m)\u001b[0m\u001b[0;34m\u001b[0m\u001b[0m\n",
      "\u001b[0;32m~/anaconda3/lib/python3.6/_strptime.py\u001b[0m in \u001b[0;36m_strptime_datetime\u001b[0;34m(cls, data_string, format)\u001b[0m\n\u001b[1;32m    563\u001b[0m     \"\"\"Return a class cls instance based on the input string and the\n\u001b[1;32m    564\u001b[0m     format string.\"\"\"\n\u001b[0;32m--> 565\u001b[0;31m     \u001b[0mtt\u001b[0m\u001b[0;34m,\u001b[0m \u001b[0mfraction\u001b[0m \u001b[0;34m=\u001b[0m \u001b[0m_strptime\u001b[0m\u001b[0;34m(\u001b[0m\u001b[0mdata_string\u001b[0m\u001b[0;34m,\u001b[0m \u001b[0mformat\u001b[0m\u001b[0;34m)\u001b[0m\u001b[0;34m\u001b[0m\u001b[0m\n\u001b[0m\u001b[1;32m    566\u001b[0m     \u001b[0mtzname\u001b[0m\u001b[0;34m,\u001b[0m \u001b[0mgmtoff\u001b[0m \u001b[0;34m=\u001b[0m \u001b[0mtt\u001b[0m\u001b[0;34m[\u001b[0m\u001b[0;34m-\u001b[0m\u001b[0;36m2\u001b[0m\u001b[0;34m:\u001b[0m\u001b[0;34m]\u001b[0m\u001b[0;34m\u001b[0m\u001b[0m\n\u001b[1;32m    567\u001b[0m     \u001b[0margs\u001b[0m \u001b[0;34m=\u001b[0m \u001b[0mtt\u001b[0m\u001b[0;34m[\u001b[0m\u001b[0;34m:\u001b[0m\u001b[0;36m6\u001b[0m\u001b[0;34m]\u001b[0m \u001b[0;34m+\u001b[0m \u001b[0;34m(\u001b[0m\u001b[0mfraction\u001b[0m\u001b[0;34m,\u001b[0m\u001b[0;34m)\u001b[0m\u001b[0;34m\u001b[0m\u001b[0m\n",
      "\u001b[0;32m~/anaconda3/lib/python3.6/_strptime.py\u001b[0m in \u001b[0;36m_strptime\u001b[0;34m(data_string, format)\u001b[0m\n\u001b[1;32m    363\u001b[0m     \u001b[0;32mif\u001b[0m \u001b[0mlen\u001b[0m\u001b[0;34m(\u001b[0m\u001b[0mdata_string\u001b[0m\u001b[0;34m)\u001b[0m \u001b[0;34m!=\u001b[0m \u001b[0mfound\u001b[0m\u001b[0;34m.\u001b[0m\u001b[0mend\u001b[0m\u001b[0;34m(\u001b[0m\u001b[0;34m)\u001b[0m\u001b[0;34m:\u001b[0m\u001b[0;34m\u001b[0m\u001b[0m\n\u001b[1;32m    364\u001b[0m         raise ValueError(\"unconverted data remains: %s\" %\n\u001b[0;32m--> 365\u001b[0;31m                           data_string[found.end():])\n\u001b[0m\u001b[1;32m    366\u001b[0m \u001b[0;34m\u001b[0m\u001b[0m\n\u001b[1;32m    367\u001b[0m     \u001b[0miso_year\u001b[0m \u001b[0;34m=\u001b[0m \u001b[0myear\u001b[0m \u001b[0;34m=\u001b[0m \u001b[0;32mNone\u001b[0m\u001b[0;34m\u001b[0m\u001b[0m\n",
      "\u001b[0;31mValueError\u001b[0m: unconverted data remains: 17"
     ]
    }
   ],
   "source": [
    "#날짜 문자열로부터 특정 형식의 datetime 객체를 생성하기\n",
    "date1 = today.strftime('%m/%d/%Y')\n",
    "date2 = today.strftime('%b %d, %Y')\n",
    "date3 = today.strftime('%Y-%m-%d')\n",
    "date4 = today.strftime('%B %d, %Y')\n",
    "\n",
    "#다른 DATE 형식을 지닌 4가지 문자열에 기반한\n",
    "#각각 2종류의 datetime 객체들과 date 객체들\n",
    "print(\"Output #54: {!s}\".format(datetime.strptime(date1, '%m/%d/%y')))\n",
    "print(\"Output #55: {!s}\".format(datetime.strptime(date2, '%b %d, %Y')))"
   ]
  },
  {
   "cell_type": "code",
   "execution_count": 14,
   "metadata": {},
   "outputs": [
    {
     "name": "stdout",
     "output_type": "stream",
     "text": [
      "Output #58: [1, 2, 3]\n",
      "Output #59: a_list has 3 elements.\n",
      "Output #60: the maximum value in a list is 3\n",
      "Output #61: the minimum value in a list is 1\n",
      "Output #62: ['printer', 5, ['str', 'circle', 9]]\n",
      "Output #63: another_list also has 3 elements.\n",
      "Output #54: 5 is in another_list 1 time.\n"
     ]
    }
   ],
   "source": [
    "#1.4.5 리스트 - 리스트 만들기\n",
    "#리스트를 만들기 위해 대괄호를 사용한다.\n",
    "#len() 함수를 통해 리스트 내 원소의 수를 센다.\n",
    "#max() 함수와 min() 함수는 최대/최소 값을 찾는다.\n",
    "#count() 함수는 리스트 내 특정 값이 등장한 횟수를 센다.\n",
    "a_list = [1,2,3]\n",
    "print(\"Output #58: {}\".format(a_list))\n",
    "print(\"Output #59: a_list has {} elements.\".format(len(a_list)))\n",
    "print(\"Output #60: the maximum value in a list is {}\".format(max(a_list)))\n",
    "print(\"Output #61: the minimum value in a list is {}\".format(min(a_list)))\n",
    "another_list = ['printer', 5, ['str','circle', 9]]\n",
    "print(\"Output #62: {}\".format(another_list))\n",
    "print(\"Output #63: another_list also has {} elements.\".format(len(another_list)))\n",
    "print(\"Output #54: 5 is in another_list {} time.\".format(another_list.count('printer')))"
   ]
  },
  {
   "cell_type": "code",
   "execution_count": 62,
   "metadata": {},
   "outputs": [
    {
     "name": "stdout",
     "output_type": "stream",
     "text": [
      "Output #65: 1\n",
      "Output #66: 2\n",
      "Output #66: 3\n",
      "Output #65: 3\n",
      "Output #66: 2\n",
      "Output #66: 1\n",
      "Output #66: ['str', 'circle', 9]\n",
      "Output #66: ['str', 'circle', 9]\n"
     ]
    }
   ],
   "source": [
    "#인덱스\n",
    "#리스트 내 특정 원소에 접근하려면 인덱스 이용하기\n",
    "#[0]은 첫 번째 원소이다. [-1]은 마지막 원소이다.\n",
    "print(\"Output #65: {}\".format(a_list[0]))\n",
    "print(\"Output #66: {0!s}\".format(a_list[1]))\n",
    "print(\"Output #66: {}\".format(a_list[2]))\n",
    "print(\"Output #65: {}\".format(a_list[-1]))\n",
    "print(\"Output #66: {}\".format(a_list[-2]))\n",
    "print(\"Output #66: {}\".format(a_list[-3]))\n",
    "print(\"Output #66: {}\".format(another_list[2]))\n",
    "print(\"Output #66: {}\".format(another_list[-1]))"
   ]
  },
  {
   "cell_type": "code",
   "execution_count": 69,
   "metadata": {},
   "outputs": [
    {
     "name": "stdout",
     "output_type": "stream",
     "text": [
      "Output #73: [1, 2]\n",
      "Output #73: ['printer', 5]\n",
      "Output #73: [2, 3]\n",
      "Output #73: [5, ['str', 'circle', 9]]\n"
     ]
    }
   ],
   "source": [
    "#리스트 분할하기\n",
    "#리스트 분할을 사용하여 리스트 원소들의 부분집합 만들기\n",
    "#맨 앞부터 분할하는 경우, 최초 인덱스를 생략한다.\n",
    "#맨 뒤까지 리스트를 분할하는 경우, 마지막 인덱스는 생략한다.\n",
    "print(\"Output #73: {}\".format(a_list[0:2]))\n",
    "print(\"Output #74: {}\".format(another_list[:2]))\n",
    "print(\"Output #75: {}\".format(a_list[1:3]))\n",
    "print(\"Output #76: {}\".format(another_list[1:]))"
   ]
  },
  {
   "cell_type": "code",
   "execution_count": 71,
   "metadata": {},
   "outputs": [
    {
     "name": "stdout",
     "output_type": "stream",
     "text": [
      "Output #77: [1, 2, 3]\n"
     ]
    }
   ],
   "source": [
    "#리스트 복사하기\n",
    "#[:]를 이용하여 리스트 복사하기\n",
    "a_new_list = a_list[:]\n",
    "print(\"Output #77: {}\".format(a_new_list))"
   ]
  },
  {
   "cell_type": "code",
   "execution_count": 72,
   "metadata": {},
   "outputs": [
    {
     "name": "stdout",
     "output_type": "stream",
     "text": [
      "Output #78: [1, 2, 3, 'printer', 5, ['str', 'circle', 9]]\n"
     ]
    }
   ],
   "source": [
    "#리스트 병합하기\n",
    "# + 연산자를 ㅇ용하여 2개 이상의 리스트를 병합하기\n",
    "a_longer_list = a_list + another_list\n",
    "print(\"Output #78: {}\".format(a_longer_list))"
   ]
  },
  {
   "cell_type": "code",
   "execution_count": 76,
   "metadata": {},
   "outputs": [
    {
     "name": "stdout",
     "output_type": "stream",
     "text": [
      "Output #79: True\n",
      "Output #80: 2 is in [1, 2, 3]\n",
      "output #81 True\n",
      "Output #82: 6 is not in [1, 2, 3]\n"
     ]
    }
   ],
   "source": [
    "#in과 not in을 이용하여 특정 원소의 리스트 내 포함 여부를 확인하기\n",
    "a = 2 in a_list\n",
    "print(\"Output #79: {}\".format(a))\n",
    "if 2 in a_list:\n",
    "    print(\"Output #80: 2 is in {}\".format(a_list))\n",
    "b = 6 not in a_list\n",
    "print(\"output #81 {}\".format(b))\n",
    "if 6 not in a_list:\n",
    "    print(\"Output #82: 6 is not in {}\".format(a_list))"
   ]
  },
  {
   "cell_type": "code",
   "execution_count": 11,
   "metadata": {},
   "outputs": [
    {
     "name": "stdout",
     "output_type": "stream",
     "text": [
      "Output #83: [1, 2, 3, 4, 5, 6]\n",
      "Output #84: [1, 2, 3, 4, 6]\n",
      "Output #85: [1, 2, 3]\n"
     ]
    }
   ],
   "source": [
    "#append, remove, pop 함수들\n",
    "#append() 함수를 이용하여 리스트의 마지막에 원소를 추가하기\n",
    "#remove() 함수를 이용하여 리스트 내 특정 원소를 제거하기\n",
    "#pop() 함수를 이용하여 리스트의 마지막 원소를 제거하기\n",
    "a_list.append(4)\n",
    "a_list.append(5)\n",
    "a_list.append(6)\n",
    "print(\"Output #83: {}\".format(a_list))\n",
    "a_list.remove(5)\n",
    "print(\"Output #84: {}\".format(a_list))\n",
    "a_list.pop()\n",
    "a_list.pop()\n",
    "print(\"Output #85: {}\".format(a_list))\n"
   ]
  },
  {
   "cell_type": "code",
   "execution_count": 15,
   "metadata": {},
   "outputs": [
    {
     "name": "stdout",
     "output_type": "stream",
     "text": [
      "Output #86: [3, 2, 1]\n",
      "Output #87: [1, 2, 3]\n"
     ]
    }
   ],
   "source": [
    "#reverse 함수\n",
    "#reverse() 함수를 이용하여 리스트 반전하기\n",
    "#해당 리스트 내에서 (인플레이스) 변경이 일어나므로\n",
    "#기존 리스트를 변경하지 않고 반전하려면 먼저 사본을 만들어둬야 한다.\n",
    "a_list.reverse()\n",
    "print(\"Output #86: {}\".format(a_list))\n",
    "a_list.reverse()\n",
    "print(\"Output #87: {}\".format(a_list))"
   ]
  },
  {
   "cell_type": "code",
   "execution_count": 18,
   "metadata": {},
   "outputs": [
    {
     "name": "stdout",
     "output_type": "stream",
     "text": [
      "Output #88: [3, 5, 1, 7, 2, 8, 4, 9, 0, 6]\n",
      "Output #89: [3, 5, 1, 7, 2, 8, 4, 9, 0, 6]\n",
      "Output #90: [3, 5, 1, 7, 2, 8, 4, 9, 0, 6]\n"
     ]
    }
   ],
   "source": [
    "#sort 함수\n",
    "#sort() 함수를 이용하여 리스트를 인플레이스로 정렬하기\n",
    "#이는 리스트가 변경된다는 것을 의미한다.\n",
    "#기존 리스트의 변경 없이 리스트를 정렬하려면, 우선 사본을 만든다.\n",
    "\n",
    "unordered_list = [3,5,1,7,2,8,4,9,0,6]\n",
    "print(\"Output #88: {}\".format(unordered_list))\n",
    "list_copy = unordered_list[:]\n",
    "print(\"Output #89: {}\".format(list_copy))\n",
    "print(\"Output #90: {}\".format(unordered_list))"
   ]
  },
  {
   "cell_type": "code",
   "execution_count": 20,
   "metadata": {},
   "outputs": [
    {
     "name": "stdout",
     "output_type": "stream",
     "text": [
      "Output #91: {} [[4, 3, 2, 1], [2, 4, 1, 3], [1, 2, 3, 4]]\n"
     ]
    }
   ],
   "source": [
    "#sorted 함수\n",
    "#sorted() 함수를 이용하여 리스트들의 특정 위치에 따라 리스트 정렬하기\n",
    "my_lists = [[1,2,3,4],[4,3,2,1],[2,4,1,3]]\n",
    "my_lists_sorted_index_3 = sorted(my_lists, key=lambda index_value: index_value[3])\n",
    "print(\"Output #91: {}\",format(my_lists_sorted_index_3))"
   ]
  },
  {
   "cell_type": "code",
   "execution_count": 22,
   "metadata": {},
   "outputs": [
    {
     "name": "stdout",
     "output_type": "stream",
     "text": [
      "Output #92: [[461, 1, 1, 290], [578, 1, 1, 290], [22, 6, 6, 444], [123, 2, 2, 444], [236, 5, 5, 678], [354, 4, 4, 678]]\n"
     ]
    }
   ],
   "source": [
    "# itemgetter() 함수를 이용하여 2개 인덱스 위치에 따라 리스트 정렬하기\n",
    "my_lists = [[123,2,2,444],[22,6,6,444],[354,4,4,678],[236,5,5,678],\\\n",
    "[578,1,1,290],[461,1,1,290]]\n",
    "my_lists_sorted_by_index_3_and_0 =sorted(my_lists, key=itemgetter(3,0))\n",
    "print(\"Output #92: {}\".format(my_lists_sorted_by_index_3_and_0))"
   ]
  },
  {
   "cell_type": "code",
   "execution_count": 27,
   "metadata": {},
   "outputs": [
    {
     "name": "stdout",
     "output_type": "stream",
     "text": [
      "Output #93: ('x', 'y', 'z')\n",
      "Output #94: my_tuple has 3 elements\n",
      "Output #95: y\n",
      "Output #96: ('x', 'y', 'z', 'x', 'y', 'z')\n"
     ]
    }
   ],
   "source": [
    "#튜플 생성하기\n",
    "# 괄호를 사용하여 튜플을 생성하기\n",
    "my_tuple = ('x','y','z')\n",
    "print(\"Output #93: {}\".format(my_tuple))\n",
    "print(\"Output #94: my_tuple has {} elements\".format(len(my_tuple)))\n",
    "print(\"Output #95: {}\".format(my_tuple[1]))\n",
    "longer_tuple = my_tuple + my_tuple\n",
    "print(\"Output #96: {}\".format(longer_tuple))"
   ]
  },
  {
   "cell_type": "code",
   "execution_count": 34,
   "metadata": {},
   "outputs": [
    {
     "name": "stdout",
     "output_type": "stream",
     "text": [
      "Output #97: xyz\n",
      "Output #98: redrobin\n",
      "Output #99: robinred\n"
     ]
    }
   ],
   "source": [
    "#튜플 풀기\n",
    "#할당 연산자(=)의 왼편에 튜플을 풀기\n",
    "one, two, three = my_tuple\n",
    "print(\"Output #97: {0}{1}{2}\".format(one, two, three))\n",
    "var1 = 'red'\n",
    "var2 = 'robin'\n",
    "print(\"Output #98: {}{}\".format(var1, var2))\n",
    "#변수간 값 교환하기\n",
    "var1, var2 = var2, var1\n",
    "print(\"Output #99: {}{}\".format(var1, var2))"
   ]
  },
  {
   "cell_type": "code",
   "execution_count": 37,
   "metadata": {},
   "outputs": [
    {
     "name": "stdout",
     "output_type": "stream",
     "text": [
      "Output #100: (1, 2, 3)\n",
      "Output #101: ['x', 'y', 'z']\n"
     ]
    }
   ],
   "source": [
    "#튜플을 리스트로, 리스트를 튜플로 변환하기\n",
    "my_list = [1,2,3]\n",
    "my_tuple = ('x','y','z')\n",
    "print(\"Output #100: {}\".format(tuple(my_list)))\n",
    "print(\"Output #101: {}\".format(list(my_tuple)))"
   ]
  },
  {
   "cell_type": "code",
   "execution_count": 45,
   "metadata": {},
   "outputs": [
    {
     "name": "stdout",
     "output_type": "stream",
     "text": [
      "Output #102: {'one': 1, 'two': 2, 'three': 3}\n",
      "Output #103: a_dict has 3 elements\n",
      "Output #104: {'x': 'printer', 'y': 5, 'z': ['star', 'circle', 9]}\n",
      "Output #105: another_dict has 3 elements\n"
     ]
    }
   ],
   "source": [
    "#딕셔너리 생성하기\n",
    "#중괄호를 이용하여 딕셔너리 생성하기\n",
    "#각 쌍의 키와 값 사이에 콜론을 사용한다.\n",
    "#len() 함수는 딕셔너리에 있는 키-값 쌍의 수를 센다.\n",
    "empty_dict = {}\n",
    "a_dict = {'one':1, 'two':2, 'three':3}\n",
    "print(\"Output #102: {}\".format(a_dict))\n",
    "print(\"Output #103: a_dict has {!s} elements\".format(len(a_dict)))\n",
    "another_dict = {'x':'printer', 'y':5, 'z':['star','circle',9]}\n",
    "print(\"Output #104: {}\".format(another_dict))\n",
    "print(\"Output #105: another_dict has {!s} elements\".format(len(another_dict)))"
   ]
  },
  {
   "cell_type": "code",
   "execution_count": 49,
   "metadata": {},
   "outputs": [
    {
     "name": "stdout",
     "output_type": "stream",
     "text": [
      "Output #106: 2\n",
      "Output #107: ['star', 'circle', 9]\n"
     ]
    }
   ],
   "source": [
    "#키를 사용하여 딕셔너리 내 특정 값에 접근하기\n",
    "print(\"Output #106: {}\".format(a_dict['two']))\n",
    "print(\"Output #107: {}\".format(another_dict['z']))"
   ]
  },
  {
   "cell_type": "code",
   "execution_count": 50,
   "metadata": {},
   "outputs": [
    {
     "name": "stdout",
     "output_type": "stream",
     "text": [
      "Output #108: {'one': 1, 'two': 2, 'three': 3}\n"
     ]
    }
   ],
   "source": [
    "#copy() 함수를 이용하여 딕셔너리 사본 만들기\n",
    "a_new_dict = a_dict.copy()\n",
    "print(\"Output #108: {}\".format(a_new_dict))"
   ]
  },
  {
   "cell_type": "code",
   "execution_count": 51,
   "metadata": {},
   "outputs": [
    {
     "name": "stdout",
     "output_type": "stream",
     "text": [
      "Output #109: dict_keys(['one', 'two', 'three'])\n",
      "Output #110: dict_values([1, 2, 3])\n",
      "Output #111: dict_items([('one', 1), ('two', 2), ('three', 3)])\n"
     ]
    }
   ],
   "source": [
    "#keys(), values(), items()를 사용하여\n",
    "#딕셔너리의 키, 값, 키-값 쌍에 접근하기\n",
    "print(\"Output #109: {}\".format(a_dict.keys()))\n",
    "print(\"Output #110: {}\".format(a_dict.values()))\n",
    "print(\"Output #111: {}\".format(a_dict.items()))"
   ]
  },
  {
   "cell_type": "code",
   "execution_count": null,
   "metadata": {
    "collapsed": true
   },
   "outputs": [],
   "source": [
    "#in, not in, get 이용하기\n",
    "f"
   ]
  }
 ],
 "metadata": {
  "kernelspec": {
   "display_name": "Python 3",
   "language": "python",
   "name": "python3"
  },
  "language_info": {
   "codemirror_mode": {
    "name": "ipython",
    "version": 3
   },
   "file_extension": ".py",
   "mimetype": "text/x-python",
   "name": "python",
   "nbconvert_exporter": "python",
   "pygments_lexer": "ipython3",
   "version": "3.6.3"
  }
 },
 "nbformat": 4,
 "nbformat_minor": 2
}
